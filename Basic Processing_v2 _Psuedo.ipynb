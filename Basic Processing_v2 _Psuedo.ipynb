{
 "cells": [
  {
   "cell_type": "markdown",
   "metadata": {},
   "source": [
    "In this notebook, we have loaded both train and test dataset and filled the missing values.\n",
    "\n",
    "for Education we used \"Missing\" to fill\n",
    "\n",
    "for previous_year_rating we used -1 to fill the values for both train and test data set.\n",
    "\n",
    "Also previous_year rating must be related to length of years of service. for those employees where lenght of service is 1, those people should not be having the previous year rating. so this would be the critical feature to determine the promotion.\n",
    "\n",
    "obviously people having no experience can not be promoted.\n",
    "\n",
    "region is converted in to codes as that contains 34 unique values and creating 34 one hot encoded values does not make sense. but this can be tried out as it is possible that promotion are based on region wise.\n",
    "\n",
    "Department we will one hot encode as its common basic people working in HR will be promoted in same department.\n",
    "\n",
    "Region is having almost similar distribution in both training and test set."
   ]
  },
  {
   "cell_type": "code",
   "execution_count": 1,
   "metadata": {},
   "outputs": [],
   "source": [
    "%load_ext autoreload\n",
    "%autoreload 2\n",
    "\n",
    "%matplotlib inline"
   ]
  },
  {
   "cell_type": "code",
   "execution_count": 2,
   "metadata": {},
   "outputs": [],
   "source": [
    "from fastai.imports import *\n",
    "from fastai.structured import *\n",
    "from pandas_summary import DataFrameSummary\n",
    "from sklearn.ensemble import RandomForestClassifier\n",
    "from IPython.display import display\n",
    "from sklearn import metrics"
   ]
  },
  {
   "cell_type": "code",
   "execution_count": 6,
   "metadata": {},
   "outputs": [],
   "source": [
    "df_train = pd.read_csv(r'C:\\Users\\GJ\\Desktop\\Machine Learning\\fastai\\WNS\\train.csv', low_memory=False)\n",
    "#df_test = pd.read_csv(r'C:\\Users\\GJ\\Desktop\\Machine Learning\\fastai\\WNS\\test.csv', low_memory=False)"
   ]
  },
  {
   "cell_type": "code",
   "execution_count": 7,
   "metadata": {},
   "outputs": [],
   "source": [
    "df_test = pd.read_csv(r'C:\\Users\\GJ\\Desktop\\Machine Learning\\fastai\\WNS\\results.csv', low_memory=False)"
   ]
  },
  {
   "cell_type": "code",
   "execution_count": 8,
   "metadata": {},
   "outputs": [],
   "source": [
    "def display_all(df) : \n",
    "    with pd.option_context(\"display.max_rows\", 1000, \"display.max_columns\", 1000):\n",
    "        display(df)"
   ]
  },
  {
   "cell_type": "code",
   "execution_count": 9,
   "metadata": {},
   "outputs": [],
   "source": [
    "df_train.education.fillna(value=\"Missing\", inplace=True)"
   ]
  },
  {
   "cell_type": "code",
   "execution_count": 10,
   "metadata": {},
   "outputs": [],
   "source": [
    "df_test.education.fillna(value=\"Missing\", inplace=True)"
   ]
  },
  {
   "cell_type": "code",
   "execution_count": 11,
   "metadata": {},
   "outputs": [],
   "source": [
    "df_train.previous_year_rating.fillna(value=3.0, inplace=True)\n",
    "df_test.previous_year_rating.fillna(value=3.0, inplace=True)"
   ]
  },
  {
   "cell_type": "code",
   "execution_count": 12,
   "metadata": {
    "scrolled": true
   },
   "outputs": [],
   "source": [
    "df_train.previous_year_rating = df_train.previous_year_rating.astype('category')\n",
    "df_test.previous_year_rating = df_test.previous_year_rating.astype('category')"
   ]
  },
  {
   "cell_type": "code",
   "execution_count": 13,
   "metadata": {
    "scrolled": true
   },
   "outputs": [],
   "source": [
    "df_train['region'] = df_train.region.astype('category').cat.as_ordered()"
   ]
  },
  {
   "cell_type": "code",
   "execution_count": 14,
   "metadata": {},
   "outputs": [],
   "source": [
    "df_train.region.cat.set_categories(['region_1', 'region_2', 'region_3', 'region_4', 'region_5', 'region_6', 'region_7', 'region_8', 'region_9', 'region_10', 'region_11', 'region_12', 'region_13', 'region_14', 'region_15', 'region_16', 'region_17', 'region_18', 'region_19', 'region_20', 'region_21', 'region_22', 'region_23', 'region_24', 'region_25', 'region_26', 'region_27', 'region_28', 'region_29', 'region_30', 'region_31', 'region_32', 'region_33', 'region_34'],\n",
    "                                   ordered=True, inplace=True)"
   ]
  },
  {
   "cell_type": "code",
   "execution_count": 15,
   "metadata": {},
   "outputs": [
    {
     "data": {
      "text/plain": [
       "0     region_7\n",
       "1    region_22\n",
       "2    region_19\n",
       "3    region_23\n",
       "4    region_26\n",
       "Name: region, dtype: category\n",
       "Categories (34, object): [region_1 < region_2 < region_3 < region_4 ... region_31 < region_32 < region_33 < region_34]"
      ]
     },
     "execution_count": 15,
     "metadata": {},
     "output_type": "execute_result"
    }
   ],
   "source": [
    "df_train.region.head()"
   ]
  },
  {
   "cell_type": "code",
   "execution_count": 16,
   "metadata": {
    "scrolled": true
   },
   "outputs": [],
   "source": [
    "df_test['region'] = pd.Categorical(df_test['region'], categories=df_train['region'].cat.categories, ordered=True)"
   ]
  },
  {
   "cell_type": "code",
   "execution_count": 17,
   "metadata": {},
   "outputs": [],
   "source": [
    "df_train['gender'] = df_train.gender.astype('category').cat.as_ordered()"
   ]
  },
  {
   "cell_type": "code",
   "execution_count": 18,
   "metadata": {},
   "outputs": [],
   "source": [
    "df_test['gender'] = pd.Categorical(df_test['gender'], categories=df_train['gender'].cat.categories, ordered=True)"
   ]
  },
  {
   "cell_type": "code",
   "execution_count": 19,
   "metadata": {},
   "outputs": [],
   "source": [
    "df_train['gender'] = df_train.gender.cat.codes\n",
    "df_test['gender'] = df_test.gender.cat.codes"
   ]
  },
  {
   "cell_type": "code",
   "execution_count": 20,
   "metadata": {},
   "outputs": [],
   "source": [
    "df_train['region'] = df_train.region.cat.codes\n",
    "df_test['region'] = df_test.region.cat.codes"
   ]
  },
  {
   "cell_type": "markdown",
   "metadata": {},
   "source": [
    "Getting dummies for categorical variables. Also here we are treating rating as categorical variable since it has missing vallues which seems to be related to employees who are 1 year experienced."
   ]
  },
  {
   "cell_type": "code",
   "execution_count": 21,
   "metadata": {},
   "outputs": [],
   "source": [
    "df_train = pd.concat([df_train.drop('department', axis=1), pd.get_dummies(df_train.department, prefix='department')], axis=1)"
   ]
  },
  {
   "cell_type": "code",
   "execution_count": 22,
   "metadata": {},
   "outputs": [],
   "source": [
    "df_test = pd.concat([df_test.drop('department', axis=1), pd.get_dummies(df_test.department, prefix='department')], axis=1)"
   ]
  },
  {
   "cell_type": "code",
   "execution_count": 23,
   "metadata": {
    "scrolled": true
   },
   "outputs": [],
   "source": [
    "df_train = pd.concat([df_train.drop('education', axis=1), pd.get_dummies(df_train.education, prefix='education')], axis=1)"
   ]
  },
  {
   "cell_type": "code",
   "execution_count": 24,
   "metadata": {
    "scrolled": true
   },
   "outputs": [],
   "source": [
    "df_test = pd.concat([df_test.drop('education', axis=1), pd.get_dummies(df_test.education, prefix='education')], axis=1)"
   ]
  },
  {
   "cell_type": "code",
   "execution_count": 25,
   "metadata": {
    "scrolled": true
   },
   "outputs": [],
   "source": [
    "df_train = pd.concat([df_train.drop('recruitment_channel', axis=1), pd.get_dummies(df_train.recruitment_channel, prefix='recruitment_channel')], axis=1)"
   ]
  },
  {
   "cell_type": "code",
   "execution_count": 26,
   "metadata": {
    "scrolled": true
   },
   "outputs": [],
   "source": [
    "df_test = pd.concat([df_test.drop('recruitment_channel', axis=1), pd.get_dummies(df_test.recruitment_channel, prefix='recruitment_channel')], axis=1)"
   ]
  },
  {
   "cell_type": "code",
   "execution_count": 27,
   "metadata": {},
   "outputs": [],
   "source": [
    "df_train = pd.concat([df_train.drop('previous_year_rating', axis=1), pd.get_dummies(df_train.previous_year_rating, prefix='previous_year_rating')], axis=1)"
   ]
  },
  {
   "cell_type": "code",
   "execution_count": 28,
   "metadata": {},
   "outputs": [],
   "source": [
    "df_test = pd.concat([df_test.drop('previous_year_rating', axis=1), pd.get_dummies(df_test.previous_year_rating, prefix='previous_year_rating')], axis=1)"
   ]
  },
  {
   "cell_type": "markdown",
   "metadata": {},
   "source": [
    "# One hot encoded data\n",
    "Saving the dataset in dataframe format after performing one hot encoding."
   ]
  },
  {
   "cell_type": "code",
   "execution_count": 29,
   "metadata": {},
   "outputs": [
    {
     "data": {
      "text/plain": [
       "0    50140\n",
       "1     4668\n",
       "Name: is_promoted, dtype: int64"
      ]
     },
     "execution_count": 29,
     "metadata": {},
     "output_type": "execute_result"
    }
   ],
   "source": [
    "df_train.is_promoted.value_counts()"
   ]
  },
  {
   "cell_type": "markdown",
   "metadata": {},
   "source": [
    "# removed gender and age and it has really improved the model score."
   ]
  },
  {
   "cell_type": "code",
   "execution_count": 30,
   "metadata": {},
   "outputs": [],
   "source": [
    "df_train_v1 = df_train.drop(columns='gender', axis=1)\n",
    "df_train_v1 = df_train_v1.drop(columns='age', axis=1)"
   ]
  },
  {
   "cell_type": "code",
   "execution_count": 31,
   "metadata": {},
   "outputs": [
    {
     "data": {
      "text/plain": [
       "29"
      ]
     },
     "execution_count": 31,
     "metadata": {},
     "output_type": "execute_result"
    }
   ],
   "source": [
    "len(df_train_v1.columns)"
   ]
  },
  {
   "cell_type": "code",
   "execution_count": 32,
   "metadata": {},
   "outputs": [],
   "source": [
    "df_test_v1 = df_test.drop(columns='gender', axis=1)\n",
    "df_test_v1 = df_test_v1.drop(columns='age', axis=1)"
   ]
  },
  {
   "cell_type": "markdown",
   "metadata": {},
   "source": [
    "Rating with bins is working better as compared to treat it as continous variable."
   ]
  },
  {
   "cell_type": "markdown",
   "metadata": {},
   "source": [
    "Binning of average training score did not work out. let's focus on region feature."
   ]
  },
  {
   "cell_type": "markdown",
   "metadata": {},
   "source": [
    "Took the log of avg_training_score but it did not help. model performance is still the same.\n",
    "\n",
    "### removed region which helped to improve the score quite a bit."
   ]
  },
  {
   "cell_type": "code",
   "execution_count": 33,
   "metadata": {},
   "outputs": [],
   "source": [
    "df_train_v1.avg_training_score = np.log(df_train_v1.avg_training_score)\n",
    "df_test_v1.avg_training_score = np.log(df_test_v1.avg_training_score)"
   ]
  },
  {
   "cell_type": "markdown",
   "metadata": {},
   "source": []
  },
  {
   "cell_type": "code",
   "execution_count": 34,
   "metadata": {},
   "outputs": [],
   "source": [
    "df_train_v1.drop(columns='region', axis=1, inplace=True)\n",
    "df_test_v1.drop(columns='region', axis=1, inplace=True)"
   ]
  },
  {
   "cell_type": "code",
   "execution_count": 35,
   "metadata": {},
   "outputs": [],
   "source": [
    "df_train_v1.drop(columns=['recruitment_channel_other', 'recruitment_channel_referred', 'recruitment_channel_sourcing'],\n",
    "                axis=1, inplace=True)"
   ]
  },
  {
   "cell_type": "code",
   "execution_count": 36,
   "metadata": {},
   "outputs": [],
   "source": [
    "df_test_v1.drop(columns=['recruitment_channel_other', 'recruitment_channel_referred', 'recruitment_channel_sourcing'],\n",
    "                axis=1, inplace=True)"
   ]
  },
  {
   "cell_type": "code",
   "execution_count": null,
   "metadata": {
    "scrolled": true
   },
   "outputs": [],
   "source": [
    "df_train_v1.head().T"
   ]
  },
  {
   "cell_type": "markdown",
   "metadata": {},
   "source": [
    "### Removed columns gender, age, region and recruitment channel as these factors should not contribute to decide if promotion should be given or not."
   ]
  },
  {
   "cell_type": "markdown",
   "metadata": {},
   "source": [
    "# Normalizing the variables"
   ]
  },
  {
   "cell_type": "code",
   "execution_count": 38,
   "metadata": {},
   "outputs": [],
   "source": [
    "no_trng_min = df_train_v1.no_of_trainings.min()\n",
    "no_trng_max = df_train_v1.no_of_trainings.max()\n",
    "avg_trng_score_mean = df_train_v1.avg_training_score.mean()\n",
    "avg_trng_score_std = df_train_v1.avg_training_score.std()\n",
    "length_service_min = df_train_v1.length_of_service.min()\n",
    "length_service_max = df_train_v1.length_of_service.max()"
   ]
  },
  {
   "cell_type": "code",
   "execution_count": 39,
   "metadata": {},
   "outputs": [],
   "source": [
    "df_train_v1.no_of_trainings = (df_train_v1.no_of_trainings - no_trng_min)/(no_trng_max)\n",
    "df_test_v1.no_of_trainings = (df_test_v1.no_of_trainings - no_trng_min)/(no_trng_max)"
   ]
  },
  {
   "cell_type": "code",
   "execution_count": 40,
   "metadata": {},
   "outputs": [],
   "source": [
    "df_train_v1.avg_training_score = (df_train_v1.avg_training_score - avg_trng_score_mean)/(avg_trng_score_std)\n",
    "df_test_v1.avg_training_score = (df_test_v1.avg_training_score - avg_trng_score_mean)/(avg_trng_score_std)"
   ]
  },
  {
   "cell_type": "code",
   "execution_count": 41,
   "metadata": {},
   "outputs": [],
   "source": [
    "df_train_v1.length_of_service = (df_train_v1.length_of_service - length_service_min)/(length_service_max)\n",
    "df_test_v1.length_of_service = (df_test_v1.length_of_service - length_service_min)/(length_service_max)"
   ]
  },
  {
   "cell_type": "code",
   "execution_count": 42,
   "metadata": {},
   "outputs": [
    {
     "data": {
      "text/html": [
       "<div>\n",
       "<style scoped>\n",
       "    .dataframe tbody tr th:only-of-type {\n",
       "        vertical-align: middle;\n",
       "    }\n",
       "\n",
       "    .dataframe tbody tr th {\n",
       "        vertical-align: top;\n",
       "    }\n",
       "\n",
       "    .dataframe thead th {\n",
       "        text-align: right;\n",
       "    }\n",
       "</style>\n",
       "<table border=\"1\" class=\"dataframe\">\n",
       "  <thead>\n",
       "    <tr style=\"text-align: right;\">\n",
       "      <th></th>\n",
       "      <th>employee_id</th>\n",
       "      <th>no_of_trainings</th>\n",
       "      <th>length_of_service</th>\n",
       "      <th>KPIs_met &gt;80%</th>\n",
       "      <th>awards_won?</th>\n",
       "      <th>avg_training_score</th>\n",
       "      <th>is_promoted</th>\n",
       "      <th>department_Analytics</th>\n",
       "      <th>department_Finance</th>\n",
       "      <th>department_HR</th>\n",
       "      <th>...</th>\n",
       "      <th>department_Technology</th>\n",
       "      <th>education_Bachelor's</th>\n",
       "      <th>education_Below Secondary</th>\n",
       "      <th>education_Master's &amp; above</th>\n",
       "      <th>education_Missing</th>\n",
       "      <th>previous_year_rating_1.0</th>\n",
       "      <th>previous_year_rating_2.0</th>\n",
       "      <th>previous_year_rating_3.0</th>\n",
       "      <th>previous_year_rating_4.0</th>\n",
       "      <th>previous_year_rating_5.0</th>\n",
       "    </tr>\n",
       "  </thead>\n",
       "  <tbody>\n",
       "    <tr>\n",
       "      <th>0</th>\n",
       "      <td>65438</td>\n",
       "      <td>0.0</td>\n",
       "      <td>0.189189</td>\n",
       "      <td>1</td>\n",
       "      <td>0</td>\n",
       "      <td>-1.137576</td>\n",
       "      <td>0</td>\n",
       "      <td>0</td>\n",
       "      <td>0</td>\n",
       "      <td>0</td>\n",
       "      <td>...</td>\n",
       "      <td>0</td>\n",
       "      <td>0</td>\n",
       "      <td>0</td>\n",
       "      <td>1</td>\n",
       "      <td>0</td>\n",
       "      <td>0</td>\n",
       "      <td>0</td>\n",
       "      <td>0</td>\n",
       "      <td>0</td>\n",
       "      <td>1</td>\n",
       "    </tr>\n",
       "    <tr>\n",
       "      <th>1</th>\n",
       "      <td>65141</td>\n",
       "      <td>0.0</td>\n",
       "      <td>0.081081</td>\n",
       "      <td>0</td>\n",
       "      <td>0</td>\n",
       "      <td>-0.160248</td>\n",
       "      <td>0</td>\n",
       "      <td>0</td>\n",
       "      <td>0</td>\n",
       "      <td>0</td>\n",
       "      <td>...</td>\n",
       "      <td>0</td>\n",
       "      <td>1</td>\n",
       "      <td>0</td>\n",
       "      <td>0</td>\n",
       "      <td>0</td>\n",
       "      <td>0</td>\n",
       "      <td>0</td>\n",
       "      <td>0</td>\n",
       "      <td>0</td>\n",
       "      <td>1</td>\n",
       "    </tr>\n",
       "    <tr>\n",
       "      <th>2</th>\n",
       "      <td>7513</td>\n",
       "      <td>0.0</td>\n",
       "      <td>0.162162</td>\n",
       "      <td>0</td>\n",
       "      <td>0</td>\n",
       "      <td>-1.040083</td>\n",
       "      <td>0</td>\n",
       "      <td>0</td>\n",
       "      <td>0</td>\n",
       "      <td>0</td>\n",
       "      <td>...</td>\n",
       "      <td>0</td>\n",
       "      <td>1</td>\n",
       "      <td>0</td>\n",
       "      <td>0</td>\n",
       "      <td>0</td>\n",
       "      <td>0</td>\n",
       "      <td>0</td>\n",
       "      <td>1</td>\n",
       "      <td>0</td>\n",
       "      <td>0</td>\n",
       "    </tr>\n",
       "    <tr>\n",
       "      <th>3</th>\n",
       "      <td>2542</td>\n",
       "      <td>0.1</td>\n",
       "      <td>0.243243</td>\n",
       "      <td>0</td>\n",
       "      <td>0</td>\n",
       "      <td>-1.040083</td>\n",
       "      <td>0</td>\n",
       "      <td>0</td>\n",
       "      <td>0</td>\n",
       "      <td>0</td>\n",
       "      <td>...</td>\n",
       "      <td>0</td>\n",
       "      <td>1</td>\n",
       "      <td>0</td>\n",
       "      <td>0</td>\n",
       "      <td>0</td>\n",
       "      <td>1</td>\n",
       "      <td>0</td>\n",
       "      <td>0</td>\n",
       "      <td>0</td>\n",
       "      <td>0</td>\n",
       "    </tr>\n",
       "    <tr>\n",
       "      <th>4</th>\n",
       "      <td>48945</td>\n",
       "      <td>0.0</td>\n",
       "      <td>0.027027</td>\n",
       "      <td>0</td>\n",
       "      <td>0</td>\n",
       "      <td>0.786150</td>\n",
       "      <td>0</td>\n",
       "      <td>0</td>\n",
       "      <td>0</td>\n",
       "      <td>0</td>\n",
       "      <td>...</td>\n",
       "      <td>1</td>\n",
       "      <td>1</td>\n",
       "      <td>0</td>\n",
       "      <td>0</td>\n",
       "      <td>0</td>\n",
       "      <td>0</td>\n",
       "      <td>0</td>\n",
       "      <td>1</td>\n",
       "      <td>0</td>\n",
       "      <td>0</td>\n",
       "    </tr>\n",
       "  </tbody>\n",
       "</table>\n",
       "<p>5 rows × 25 columns</p>\n",
       "</div>"
      ],
      "text/plain": [
       "   employee_id  no_of_trainings  length_of_service  KPIs_met >80%  \\\n",
       "0        65438              0.0           0.189189              1   \n",
       "1        65141              0.0           0.081081              0   \n",
       "2         7513              0.0           0.162162              0   \n",
       "3         2542              0.1           0.243243              0   \n",
       "4        48945              0.0           0.027027              0   \n",
       "\n",
       "   awards_won?  avg_training_score  is_promoted  department_Analytics  \\\n",
       "0            0           -1.137576            0                     0   \n",
       "1            0           -0.160248            0                     0   \n",
       "2            0           -1.040083            0                     0   \n",
       "3            0           -1.040083            0                     0   \n",
       "4            0            0.786150            0                     0   \n",
       "\n",
       "   department_Finance  department_HR            ...             \\\n",
       "0                   0              0            ...              \n",
       "1                   0              0            ...              \n",
       "2                   0              0            ...              \n",
       "3                   0              0            ...              \n",
       "4                   0              0            ...              \n",
       "\n",
       "   department_Technology  education_Bachelor's  education_Below Secondary  \\\n",
       "0                      0                     0                          0   \n",
       "1                      0                     1                          0   \n",
       "2                      0                     1                          0   \n",
       "3                      0                     1                          0   \n",
       "4                      1                     1                          0   \n",
       "\n",
       "   education_Master's & above  education_Missing  previous_year_rating_1.0  \\\n",
       "0                           1                  0                         0   \n",
       "1                           0                  0                         0   \n",
       "2                           0                  0                         0   \n",
       "3                           0                  0                         1   \n",
       "4                           0                  0                         0   \n",
       "\n",
       "   previous_year_rating_2.0  previous_year_rating_3.0  \\\n",
       "0                         0                         0   \n",
       "1                         0                         0   \n",
       "2                         0                         1   \n",
       "3                         0                         0   \n",
       "4                         0                         1   \n",
       "\n",
       "   previous_year_rating_4.0  previous_year_rating_5.0  \n",
       "0                         0                         1  \n",
       "1                         0                         1  \n",
       "2                         0                         0  \n",
       "3                         0                         0  \n",
       "4                         0                         0  \n",
       "\n",
       "[5 rows x 25 columns]"
      ]
     },
     "execution_count": 42,
     "metadata": {},
     "output_type": "execute_result"
    }
   ],
   "source": [
    "df_train_v1.head()"
   ]
  },
  {
   "cell_type": "code",
   "execution_count": 43,
   "metadata": {},
   "outputs": [],
   "source": [
    "#os.makedirs('tmp', exist_ok=True)\n",
    "df_train_v1.to_feather(r'tmp\\train_v6')\n",
    "df_test_v1.to_feather(r'tmp\\test_v6')"
   ]
  },
  {
   "cell_type": "markdown",
   "metadata": {},
   "source": [
    "## Till above we have same steps like basic processsing V2 apart from reading the df_test_v1 which is reading predicted test set containing psuedo labels.\n",
    "\n",
    "Below part contains the creation of dataset in which we took all rows containing values 1 and 4000 random rows from values 0."
   ]
  },
  {
   "cell_type": "code",
   "execution_count": 46,
   "metadata": {},
   "outputs": [],
   "source": [
    "df_pseudo_1 = df_test_v1[df_test_v1.is_promoted==1]\n",
    "df_pseudo_0 = df_test_v1[df_test_v1.is_promoted==0]\n",
    "df_pseudo_sample = get_sample(df_pseudo_0, 4000)"
   ]
  },
  {
   "cell_type": "code",
   "execution_count": 47,
   "metadata": {},
   "outputs": [],
   "source": [
    "df_pseudo = pd.concat([df_pseudo_sample, df_pseudo_1], axis=0)"
   ]
  },
  {
   "cell_type": "code",
   "execution_count": 54,
   "metadata": {},
   "outputs": [
    {
     "data": {
      "text/plain": [
       "59569"
      ]
     },
     "execution_count": 54,
     "metadata": {},
     "output_type": "execute_result"
    }
   ],
   "source": [
    "df_train_final = pd.concat([df_train_v1, df_pseudo], axis=0)\n",
    "len(df_train_final)"
   ]
  },
  {
   "cell_type": "code",
   "execution_count": 56,
   "metadata": {},
   "outputs": [],
   "source": [
    "df_train_final.reset_index(drop=True, inplace=True)"
   ]
  },
  {
   "cell_type": "code",
   "execution_count": 57,
   "metadata": {
    "scrolled": true
   },
   "outputs": [],
   "source": [
    "df_train_final.to_feather(r'tmp\\train_Psuedo')"
   ]
  },
  {
   "cell_type": "code",
   "execution_count": null,
   "metadata": {},
   "outputs": [],
   "source": []
  },
  {
   "cell_type": "code",
   "execution_count": null,
   "metadata": {},
   "outputs": [],
   "source": []
  },
  {
   "cell_type": "code",
   "execution_count": null,
   "metadata": {},
   "outputs": [],
   "source": []
  },
  {
   "cell_type": "code",
   "execution_count": null,
   "metadata": {},
   "outputs": [],
   "source": []
  },
  {
   "cell_type": "code",
   "execution_count": null,
   "metadata": {},
   "outputs": [],
   "source": []
  },
  {
   "cell_type": "code",
   "execution_count": null,
   "metadata": {},
   "outputs": [],
   "source": []
  },
  {
   "cell_type": "code",
   "execution_count": null,
   "metadata": {},
   "outputs": [],
   "source": []
  },
  {
   "cell_type": "code",
   "execution_count": 40,
   "metadata": {},
   "outputs": [],
   "source": [
    "#os.makedirs('tmp', exist_ok=True)\n",
    "df_train_v1.to_feather(r'tmp\\train_v3')\n",
    "df_test_v1.to_feather(r'tmp\\test_v3')"
   ]
  },
  {
   "cell_type": "code",
   "execution_count": null,
   "metadata": {},
   "outputs": [],
   "source": []
  },
  {
   "cell_type": "code",
   "execution_count": 44,
   "metadata": {},
   "outputs": [
    {
     "data": {
      "text/plain": [
       "(17, 18)"
      ]
     },
     "execution_count": 44,
     "metadata": {},
     "output_type": "execute_result"
    }
   ],
   "source": [
    "len(df_test_v1.columns), len(df_train_v1.columns)"
   ]
  },
  {
   "cell_type": "code",
   "execution_count": 32,
   "metadata": {},
   "outputs": [],
   "source": [
    "df_train_v1 = pd.read_feather(r'tmp\\train_v3')\n",
    "df_test_v1 = pd.read_feather(r'tmp\\test_v3')"
   ]
  },
  {
   "cell_type": "code",
   "execution_count": 33,
   "metadata": {},
   "outputs": [
    {
     "data": {
      "text/plain": [
       "(44808, 10000)"
      ]
     },
     "execution_count": 33,
     "metadata": {},
     "output_type": "execute_result"
    }
   ],
   "source": [
    "n_valid = 10000\n",
    "n_trn = len(df_train_v1) - n_valid\n",
    "n_trn, n_valid"
   ]
  },
  {
   "cell_type": "code",
   "execution_count": 34,
   "metadata": {},
   "outputs": [],
   "source": [
    "def split_vals(a,n) : return a[:n].copy(), a[n:].copy()"
   ]
  },
  {
   "cell_type": "code",
   "execution_count": 35,
   "metadata": {},
   "outputs": [],
   "source": [
    "df_train_v2, df_valid = split_vals(df_train_v1, n_trn)"
   ]
  },
  {
   "cell_type": "markdown",
   "metadata": {},
   "source": [
    "let's try upsample minority class here"
   ]
  },
  {
   "cell_type": "code",
   "execution_count": 36,
   "metadata": {},
   "outputs": [],
   "source": [
    "df_majority = df_train_v2[df_train_v2.is_promoted==0]\n",
    "df_minority = df_train_v2[df_train_v2.is_promoted==1]"
   ]
  },
  {
   "cell_type": "code",
   "execution_count": 40,
   "metadata": {},
   "outputs": [
    {
     "data": {
      "text/plain": [
       "(40998, 3810)"
      ]
     },
     "execution_count": 40,
     "metadata": {},
     "output_type": "execute_result"
    }
   ],
   "source": [
    "len(df_majority), len(df_minority)"
   ]
  },
  {
   "cell_type": "code",
   "execution_count": 42,
   "metadata": {},
   "outputs": [],
   "source": [
    "df_majority_1 = df_majority[:10000]\n",
    "df_majority_2 = df_majority[10000:20000]\n",
    "df_majority_3 = df_majority[20000:30000]\n",
    "df_majority_4 = df_majority[30000:]"
   ]
  },
  {
   "cell_type": "code",
   "execution_count": 43,
   "metadata": {},
   "outputs": [],
   "source": [
    "df_train_1 = pd.concat([df_majority_1, df_minority], axis=0)\n",
    "df_train_2 = pd.concat([df_majority_2, df_minority], axis=0)\n",
    "df_train_3 = pd.concat([df_majority_3, df_minority], axis=0)\n",
    "df_train_4 = pd.concat([df_majority_4, df_minority], axis=0)"
   ]
  },
  {
   "cell_type": "code",
   "execution_count": 45,
   "metadata": {},
   "outputs": [],
   "source": [
    "df_train_merged = pd.concat([df_train_1, df_train_2, df_train_3, df_train_4], axis=0)"
   ]
  },
  {
   "cell_type": "code",
   "execution_count": 44,
   "metadata": {},
   "outputs": [],
   "source": [
    "df_train_1.reset_index(drop = True, inplace = True)\n",
    "df_train_2.reset_index(drop = True, inplace = True)\n",
    "df_train_3.reset_index(drop = True, inplace = True)\n",
    "df_train_4.reset_index(drop = True, inplace = True)"
   ]
  },
  {
   "cell_type": "code",
   "execution_count": 46,
   "metadata": {},
   "outputs": [],
   "source": [
    "df_train_merged.reset_index(drop=True, inplace=True)"
   ]
  },
  {
   "cell_type": "code",
   "execution_count": 48,
   "metadata": {},
   "outputs": [],
   "source": [
    "df_train_merged.to_feather(r'tmp\\train_v5')"
   ]
  },
  {
   "cell_type": "code",
   "execution_count": 50,
   "metadata": {},
   "outputs": [],
   "source": [
    "df_valid.reset_index(drop=True, inplace=True)"
   ]
  },
  {
   "cell_type": "code",
   "execution_count": 51,
   "metadata": {},
   "outputs": [],
   "source": [
    "df_valid.to_feather(r'tmp\\valid_v5')"
   ]
  },
  {
   "cell_type": "code",
   "execution_count": 31,
   "metadata": {},
   "outputs": [],
   "source": [
    "#os.makedirs('tmp', exist_ok=True)\n",
    "df_train_1.to_feather(r'tmp\\train_v4_1')\n",
    "df_train_2.to_feather(r'tmp\\train_v4_2')\n",
    "df_train_3.to_feather(r'tmp\\train_v4_3')\n",
    "df_train_4.to_feather(r'tmp\\train_v4_4')\n",
    "df_train_5.to_feather(r'tmp\\train_v4_5')"
   ]
  },
  {
   "cell_type": "code",
   "execution_count": 67,
   "metadata": {},
   "outputs": [],
   "source": [
    "from imblearn.over_sampling import SMOTE"
   ]
  },
  {
   "cell_type": "code",
   "execution_count": null,
   "metadata": {},
   "outputs": [],
   "source": []
  },
  {
   "cell_type": "code",
   "execution_count": null,
   "metadata": {},
   "outputs": [],
   "source": []
  },
  {
   "cell_type": "code",
   "execution_count": null,
   "metadata": {},
   "outputs": [],
   "source": []
  },
  {
   "cell_type": "code",
   "execution_count": 61,
   "metadata": {},
   "outputs": [],
   "source": [
    "b = df_train_v1[df_train_v1.is_promoted==0]"
   ]
  },
  {
   "cell_type": "code",
   "execution_count": 58,
   "metadata": {},
   "outputs": [],
   "source": [
    "a = df_train_v1[df_train_v1.is_promoted==1]"
   ]
  },
  {
   "cell_type": "code",
   "execution_count": 59,
   "metadata": {},
   "outputs": [
    {
     "data": {
      "text/plain": [
       "<matplotlib.collections.PathCollection at 0x18f41ab4c18>"
      ]
     },
     "execution_count": 59,
     "metadata": {},
     "output_type": "execute_result"
    },
    {
     "data": {
      "image/png": "[encoded data removed]",
      "text/plain": [
       "<Figure size 432x288 with 1 Axes>"
      ]
     },
     "metadata": {},
     "output_type": "display_data"
    }
   ],
   "source": [
    "plt.scatter(a.avg_training_score,a.no_of_trainings)"
   ]
  },
  {
   "cell_type": "code",
   "execution_count": 60,
   "metadata": {
    "scrolled": true
   },
   "outputs": [
    {
     "data": {
      "text/plain": [
       "(array([  3.,  17.,  67., 175., 315., 116.,  96., 281., 283., 357., 199., 247., 317., 182., 284., 420., 472.,\n",
       "        329., 295., 213.]),\n",
       " array([-1.99775, -1.78505, -1.57234, -1.35964, -1.14693, -0.93423, -0.72152, -0.50881, -0.29611, -0.0834 ,\n",
       "         0.1293 ,  0.34201,  0.55471,  0.76742,  0.98013,  1.19283,  1.40554,  1.61824,  1.83095,  2.04365,\n",
       "         2.25636]),\n",
       " <a list of 20 Patch objects>)"
      ]
     },
     "execution_count": 60,
     "metadata": {},
     "output_type": "execute_result"
    },
    {
     "data": {
      "image/png": "[encoded data removed]",
      "text/plain": [
       "<Figure size 432x288 with 1 Axes>"
      ]
     },
     "metadata": {},
     "output_type": "display_data"
    }
   ],
   "source": [
    "plt.hist(a.avg_training_score, bins=20)"
   ]
  },
  {
   "cell_type": "code",
   "execution_count": 62,
   "metadata": {},
   "outputs": [
    {
     "data": {
      "text/plain": [
       "(array([   7.,   85.,  494., 1750., 4008., 7429., 3064., 1773., 4124., 5669., 2887., 1061., 3366., 1893.,\n",
       "        1182., 3639., 3575., 3378.,  726.,   30.]),\n",
       " array([-2.23909, -2.02174, -1.8044 , -1.58705, -1.3697 , -1.15235, -0.935  , -0.71766, -0.50031, -0.28296,\n",
       "        -0.06561,  0.15173,  0.36908,  0.58643,  0.80378,  1.02112,  1.23847,  1.45582,  1.67317,  1.89052,\n",
       "         2.10786]),\n",
       " <a list of 20 Patch objects>)"
      ]
     },
     "execution_count": 62,
     "metadata": {},
     "output_type": "execute_result"
    },
    {
     "data": {
      "image/png": "[encoded data removed]",
      "text/plain": [
       "<Figure size 432x288 with 1 Axes>"
      ]
     },
     "metadata": {},
     "output_type": "display_data"
    }
   ],
   "source": [
    "plt.hist(b.avg_training_score, bins=20)"
   ]
  },
  {
   "cell_type": "code",
   "execution_count": 64,
   "metadata": {},
   "outputs": [
    {
     "data": {
      "text/plain": [
       "(array([   4.,   27.,  229.,  823., 3015., 2250., 1766.,  785., 2299., 2289., 1006.,  895., 1333.,  707.,\n",
       "        1096., 2123., 1926.,  680.,  138.,   99.]),\n",
       " array([-2.23909, -2.01432, -1.78955, -1.56477, -1.34   , -1.11523, -0.89046, -0.66568, -0.44091, -0.21614,\n",
       "         0.00863,  0.23341,  0.45818,  0.68295,  0.90772,  1.1325 ,  1.35727,  1.58204,  1.80681,  2.03159,\n",
       "         2.25636]),\n",
       " <a list of 20 Patch objects>)"
      ]
     },
     "execution_count": 64,
     "metadata": {},
     "output_type": "execute_result"
    },
    {
     "data": {
      "image/png": "[encoded data removed]",
      "text/plain": [
       "<Figure size 432x288 with 1 Axes>"
      ]
     },
     "metadata": {},
     "output_type": "display_data"
    }
   ],
   "source": [
    "plt.hist(df_test_v1.avg_training_score, bins=20)"
   ]
  },
  {
   "cell_type": "code",
   "execution_count": 65,
   "metadata": {},
   "outputs": [
    {
     "data": {
      "text/plain": [
       "(array([   7.,   88.,  511., 1817., 6864., 5063., 4177., 1942., 5399., 5484., 2328., 2243., 2971., 1681.,\n",
       "        2549., 5170., 4350., 1585.,  365.,  214.]),\n",
       " array([-2.23909, -2.01432, -1.78955, -1.56477, -1.34   , -1.11523, -0.89046, -0.66568, -0.44091, -0.21614,\n",
       "         0.00863,  0.23341,  0.45818,  0.68295,  0.90772,  1.1325 ,  1.35727,  1.58204,  1.80681,  2.03159,\n",
       "         2.25636]),\n",
       " <a list of 20 Patch objects>)"
      ]
     },
     "execution_count": 65,
     "metadata": {},
     "output_type": "execute_result"
    },
    {
     "data": {
      "image/png": "[encoded data removed]",
      "text/plain": [
       "<Figure size 432x288 with 1 Axes>"
      ]
     },
     "metadata": {},
     "output_type": "display_data"
    }
   ],
   "source": [
    "plt.hist(df_train_v1.avg_training_score, bins=20)"
   ]
  },
  {
   "cell_type": "code",
   "execution_count": null,
   "metadata": {},
   "outputs": [],
   "source": [
    "a['previous_year_rating_5.0'].value_counts()"
   ]
  },
  {
   "cell_type": "code",
   "execution_count": null,
   "metadata": {},
   "outputs": [],
   "source": [
    "b['previous_year_rating_5.0'].value_counts()"
   ]
  },
  {
   "cell_type": "code",
   "execution_count": 261,
   "metadata": {
    "scrolled": true
   },
   "outputs": [],
   "source": [
    "a['group'] = pd.cut(a.avg_training_score.values,bins=[38,50,55,60,65,70,75,80,85,90,95,100],\n",
    "                   labels=[\"38to50\",\"50to55\",\"55to60\",\"60to65\",\"65to70\",\"70to75\",\"75to80\",\"80to85\",\"85to90\",\"90to95\",\"95to100\"])"
   ]
  },
  {
   "cell_type": "code",
   "execution_count": 291,
   "metadata": {},
   "outputs": [],
   "source": [
    "df_train_rating = pd.read_csv(r'C:\\Users\\GJ\\Desktop\\Machine Learning\\fastai\\WNS\\train.csv', low_memory=False)\n",
    "df_test_rating = pd.read_csv(r'C:\\Users\\GJ\\Desktop\\Machine Learning\\fastai\\WNS\\test.csv', low_memory=False)"
   ]
  },
  {
   "cell_type": "code",
   "execution_count": null,
   "metadata": {},
   "outputs": [],
   "source": []
  },
  {
   "cell_type": "code",
   "execution_count": null,
   "metadata": {},
   "outputs": [],
   "source": []
  },
  {
   "cell_type": "code",
   "execution_count": null,
   "metadata": {},
   "outputs": [],
   "source": []
  }
 ],
 "metadata": {
  "kernelspec": {
   "display_name": "Python 3",
   "language": "python",
   "name": "python3"
  },
  "language_info": {
   "codemirror_mode": {
    "name": "ipython",
    "version": 3
   },
   "file_extension": ".py",
   "mimetype": "text/x-python",
   "name": "python",
   "nbconvert_exporter": "python",
   "pygments_lexer": "ipython3",
   "version": "3.6.5"
  }
 },
 "nbformat": 4,
 "nbformat_minor": 2
}
