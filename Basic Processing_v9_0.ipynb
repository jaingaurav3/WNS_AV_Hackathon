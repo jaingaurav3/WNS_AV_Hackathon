{
 "cells": [
  {
   "cell_type": "markdown",
   "metadata": {},
   "source": [
    "In this notebook, we have loaded both train and test dataset and filled the missing values.\n",
    "\n",
    "for Education we used \"Missing\" to fill\n",
    "\n",
    "for previous_year_rating we used -1 to fill the values for both train and test data set.\n",
    "\n",
    "Also previous_year rating must be related to length of years of service. for those employees where lenght of service is 1, those people should not be having the previous year rating. so this would be the critical feature to determine the promotion.\n",
    "\n",
    "obviously people having no experience can not be promoted.\n",
    "\n",
    "region is converted in to codes as that contains 34 unique values and creating 34 one hot encoded values does not make sense. but this can be tried out as it is possible that promotion are based on region wise.\n",
    "\n",
    "Department we will one hot encode as its common basic people working in HR will be promoted in same department.\n",
    "\n",
    "Region is having almost similar distribution in both training and test set."
   ]
  },
  {
   "cell_type": "code",
   "execution_count": null,
   "metadata": {},
   "outputs": [],
   "source": [
    "%load_ext autoreload\n",
    "%autoreload 2\n",
    "\n",
    "%matplotlib inline"
   ]
  },
  {
   "cell_type": "code",
   "execution_count": null,
   "metadata": {},
   "outputs": [],
   "source": [
    "from fastai.imports import *\n",
    "from fastai.structured import *\n",
    "from pandas_summary import DataFrameSummary\n",
    "from sklearn.ensemble import RandomForestClassifier\n",
    "from IPython.display import display\n",
    "from sklearn import metrics"
   ]
  },
  {
   "cell_type": "markdown",
   "metadata": {},
   "source": [
    "#### Load Training and Test Set"
   ]
  },
  {
   "cell_type": "code",
   "execution_count": null,
   "metadata": {},
   "outputs": [],
   "source": [
    "df_train = pd.read_csv(r'C:\\Users\\GJ\\Desktop\\Machine Learning\\fastai\\WNS\\train.csv', low_memory=False)\n",
    "df_test = pd.read_csv(r'C:\\Users\\GJ\\Desktop\\Machine Learning\\fastai\\WNS\\test.csv', low_memory=False)"
   ]
  },
  {
   "cell_type": "markdown",
   "metadata": {},
   "source": [
    "#### Drop columns like region, age, gender and recruitment channel. as deciding the promotion should not be biased by these parameters."
   ]
  },
  {
   "cell_type": "code",
   "execution_count": null,
   "metadata": {},
   "outputs": [],
   "source": [
    "df_train.drop(columns=['region', 'age', 'gender', 'recruitment_channel'], axis=0, inplace=True)\n",
    "df_test.drop(columns=['region', 'age', 'gender', 'recruitment_channel'], axis=0, inplace=True)"
   ]
  },
  {
   "cell_type": "markdown",
   "metadata": {},
   "source": [
    "#### Treat Missing values and convert year rating to category"
   ]
  },
  {
   "cell_type": "code",
   "execution_count": null,
   "metadata": {},
   "outputs": [],
   "source": [
    "df_train.education.fillna(value=\"Missing\", inplace=True)\n",
    "df_test.education.fillna(value=\"Missing\", inplace=True)"
   ]
  },
  {
   "cell_type": "code",
   "execution_count": null,
   "metadata": {},
   "outputs": [],
   "source": [
    "df_train.previous_year_rating.fillna(value=0.0, inplace=True)\n",
    "df_test.previous_year_rating.fillna(value=0.0, inplace=True)"
   ]
  },
  {
   "cell_type": "code",
   "execution_count": null,
   "metadata": {
    "scrolled": true
   },
   "outputs": [],
   "source": [
    "df_train.previous_year_rating = df_train.previous_year_rating.astype('category')\n",
    "df_test.previous_year_rating = df_test.previous_year_rating.astype('category')"
   ]
  },
  {
   "cell_type": "code",
   "execution_count": null,
   "metadata": {},
   "outputs": [],
   "source": [
    "#Finance, HR, Legal and R&D\n",
    "#df_train.department[df_train.department=='Finance'] = 'Others'\n",
    "#df_train.department[df_train.department=='HR'] = 'Others'\n",
    "#df_train.department[df_train.department=='Legal'] = 'Others'\n",
    "#df_train.department[df_train.department=='R&D'] = 'Others'"
   ]
  },
  {
   "cell_type": "code",
   "execution_count": null,
   "metadata": {},
   "outputs": [],
   "source": [
    "#df_test.department[df_test.department=='Finance'] = 'Others'\n",
    "#df_test.department[df_test.department=='HR'] = 'Others'\n",
    "#df_test.department[df_test.department=='Legal'] = 'Others'\n",
    "#df_test.department[df_test.department=='R&D'] = 'Others'"
   ]
  },
  {
   "cell_type": "markdown",
   "metadata": {},
   "source": []
  },
  {
   "cell_type": "markdown",
   "metadata": {},
   "source": [
    "### One hot encoding of categorical variables\n",
    "\n",
    "Getting dummies for categorical variables. Also here we are treating rating as categorical variable since it has missing vallues which seems to be related to employees who are 1 year experienced."
   ]
  },
  {
   "cell_type": "code",
   "execution_count": 8,
   "metadata": {},
   "outputs": [],
   "source": [
    "df_train = pd.concat([df_train.drop('department', axis=1), pd.get_dummies(df_train.department, prefix='department')], axis=1)\n",
    "df_test = pd.concat([df_test.drop('department', axis=1), pd.get_dummies(df_test.department, prefix='department')], axis=1)"
   ]
  },
  {
   "cell_type": "code",
   "execution_count": 9,
   "metadata": {},
   "outputs": [],
   "source": [
    "df_train = pd.concat([df_train.drop('education', axis=1), pd.get_dummies(df_train.education, prefix='education')], axis=1)\n",
    "df_test = pd.concat([df_test.drop('education', axis=1), pd.get_dummies(df_test.education, prefix='education')], axis=1)"
   ]
  },
  {
   "cell_type": "code",
   "execution_count": 10,
   "metadata": {
    "scrolled": true
   },
   "outputs": [],
   "source": [
    "df_train = pd.concat([df_train.drop('previous_year_rating', axis=1), pd.get_dummies(df_train.previous_year_rating, prefix='previous_year_rating')], axis=1)\n",
    "df_test = pd.concat([df_test.drop('previous_year_rating', axis=1), pd.get_dummies(df_test.previous_year_rating, prefix='previous_year_rating')], axis=1)"
   ]
  },
  {
   "cell_type": "code",
   "execution_count": 11,
   "metadata": {},
   "outputs": [
    {
     "data": {
      "text/plain": [
       "0    50140\n",
       "1     4668\n",
       "Name: is_promoted, dtype: int64"
      ]
     },
     "execution_count": 11,
     "metadata": {},
     "output_type": "execute_result"
    }
   ],
   "source": [
    "df_train.is_promoted.value_counts()"
   ]
  },
  {
   "cell_type": "markdown",
   "metadata": {},
   "source": [
    "We can try for training score, like should we take log or not."
   ]
  },
  {
   "cell_type": "markdown",
   "metadata": {},
   "source": [
    "Creating 2 new features for awards_won & training score and KPI & training score.\n",
    "    This combination has way more weightage for minority class as compared to majority class in this case."
   ]
  },
  {
   "cell_type": "code",
   "execution_count": null,
   "metadata": {},
   "outputs": [],
   "source": [
    "#award_train = (df_train['awards_won?']==1) & (df_train['avg_training_score']>80)\n",
    "#award_test = (df_test['awards_won?']==1) & (df_test['avg_training_score']>80)\n",
    "#len(award_train), len(award_test)"
   ]
  },
  {
   "cell_type": "code",
   "execution_count": null,
   "metadata": {},
   "outputs": [],
   "source": [
    "#KPI_train = (df_train['KPIs_met >80%']==1) & (df_train['avg_training_score']>80)\n",
    "#KPI_test = (df_test['KPIs_met >80%']==1) & (df_test['avg_training_score']>80)\n",
    "#len(KPI_train), len(KPI_test)"
   ]
  },
  {
   "cell_type": "code",
   "execution_count": null,
   "metadata": {
    "scrolled": true
   },
   "outputs": [],
   "source": [
    "#df_train['award_training80'] = np.where(award_train, '1', '0' )\n",
    "#df_test['award_training80'] = np.where(award_test, '1', '0' )"
   ]
  },
  {
   "cell_type": "code",
   "execution_count": null,
   "metadata": {
    "scrolled": true
   },
   "outputs": [],
   "source": [
    "#df_train['KPI_training80'] = np.where(KPI_train, '1', '0' )\n",
    "#df_test['KPI_training80'] = np.where(KPI_test, '1', '0' )"
   ]
  },
  {
   "cell_type": "markdown",
   "metadata": {},
   "source": [
    "### Normalizing the variables"
   ]
  },
  {
   "cell_type": "code",
   "execution_count": 12,
   "metadata": {},
   "outputs": [],
   "source": [
    "df_train.avg_training_score = np.log(df_train.avg_training_score)\n",
    "df_test.avg_training_score = np.log(df_test.avg_training_score)"
   ]
  },
  {
   "cell_type": "code",
   "execution_count": 13,
   "metadata": {},
   "outputs": [],
   "source": [
    "no_trng_min = df_train.no_of_trainings.min()\n",
    "no_trng_max = df_train.no_of_trainings.max()\n",
    "avg_trng_score_mean = df_train.avg_training_score.mean()\n",
    "avg_trng_score_std = df_train.avg_training_score.std()\n",
    "length_service_min = df_train.length_of_service.min()\n",
    "length_service_max = df_train.length_of_service.max()"
   ]
  },
  {
   "cell_type": "code",
   "execution_count": 14,
   "metadata": {},
   "outputs": [],
   "source": [
    "df_train.no_of_trainings = (df_train.no_of_trainings - no_trng_min)/(no_trng_max)\n",
    "df_test.no_of_trainings = (df_test.no_of_trainings - no_trng_min)/(no_trng_max)"
   ]
  },
  {
   "cell_type": "code",
   "execution_count": 15,
   "metadata": {},
   "outputs": [],
   "source": [
    "df_train.avg_training_score = (df_train.avg_training_score - avg_trng_score_mean)/(avg_trng_score_std)\n",
    "df_test.avg_training_score = (df_test.avg_training_score - avg_trng_score_mean)/(avg_trng_score_std)"
   ]
  },
  {
   "cell_type": "code",
   "execution_count": 16,
   "metadata": {},
   "outputs": [],
   "source": [
    "df_train.length_of_service = (df_train.length_of_service - length_service_min)/(length_service_max)\n",
    "df_test.length_of_service = (df_test.length_of_service - length_service_min)/(length_service_max)"
   ]
  },
  {
   "cell_type": "code",
   "execution_count": 17,
   "metadata": {},
   "outputs": [
    {
     "data": {
      "text/html": [
       "<div>\n",
       "<style scoped>\n",
       "    .dataframe tbody tr th:only-of-type {\n",
       "        vertical-align: middle;\n",
       "    }\n",
       "\n",
       "    .dataframe tbody tr th {\n",
       "        vertical-align: top;\n",
       "    }\n",
       "\n",
       "    .dataframe thead th {\n",
       "        text-align: right;\n",
       "    }\n",
       "</style>\n",
       "<table border=\"1\" class=\"dataframe\">\n",
       "  <thead>\n",
       "    <tr style=\"text-align: right;\">\n",
       "      <th></th>\n",
       "      <th>employee_id</th>\n",
       "      <th>no_of_trainings</th>\n",
       "      <th>length_of_service</th>\n",
       "      <th>KPIs_met &gt;80%</th>\n",
       "      <th>awards_won?</th>\n",
       "      <th>avg_training_score</th>\n",
       "      <th>is_promoted</th>\n",
       "      <th>department_Analytics</th>\n",
       "      <th>department_Finance</th>\n",
       "      <th>department_HR</th>\n",
       "      <th>...</th>\n",
       "      <th>education_Bachelor's</th>\n",
       "      <th>education_Below Secondary</th>\n",
       "      <th>education_Master's &amp; above</th>\n",
       "      <th>education_Missing</th>\n",
       "      <th>previous_year_rating_0.0</th>\n",
       "      <th>previous_year_rating_1.0</th>\n",
       "      <th>previous_year_rating_2.0</th>\n",
       "      <th>previous_year_rating_3.0</th>\n",
       "      <th>previous_year_rating_4.0</th>\n",
       "      <th>previous_year_rating_5.0</th>\n",
       "    </tr>\n",
       "  </thead>\n",
       "  <tbody>\n",
       "    <tr>\n",
       "      <th>0</th>\n",
       "      <td>65438</td>\n",
       "      <td>0.0</td>\n",
       "      <td>0.189189</td>\n",
       "      <td>1</td>\n",
       "      <td>0</td>\n",
       "      <td>-1.137576</td>\n",
       "      <td>0</td>\n",
       "      <td>0</td>\n",
       "      <td>0</td>\n",
       "      <td>0</td>\n",
       "      <td>...</td>\n",
       "      <td>0</td>\n",
       "      <td>0</td>\n",
       "      <td>1</td>\n",
       "      <td>0</td>\n",
       "      <td>0</td>\n",
       "      <td>0</td>\n",
       "      <td>0</td>\n",
       "      <td>0</td>\n",
       "      <td>0</td>\n",
       "      <td>1</td>\n",
       "    </tr>\n",
       "    <tr>\n",
       "      <th>1</th>\n",
       "      <td>65141</td>\n",
       "      <td>0.0</td>\n",
       "      <td>0.081081</td>\n",
       "      <td>0</td>\n",
       "      <td>0</td>\n",
       "      <td>-0.160248</td>\n",
       "      <td>0</td>\n",
       "      <td>0</td>\n",
       "      <td>0</td>\n",
       "      <td>0</td>\n",
       "      <td>...</td>\n",
       "      <td>1</td>\n",
       "      <td>0</td>\n",
       "      <td>0</td>\n",
       "      <td>0</td>\n",
       "      <td>0</td>\n",
       "      <td>0</td>\n",
       "      <td>0</td>\n",
       "      <td>0</td>\n",
       "      <td>0</td>\n",
       "      <td>1</td>\n",
       "    </tr>\n",
       "    <tr>\n",
       "      <th>2</th>\n",
       "      <td>7513</td>\n",
       "      <td>0.0</td>\n",
       "      <td>0.162162</td>\n",
       "      <td>0</td>\n",
       "      <td>0</td>\n",
       "      <td>-1.040083</td>\n",
       "      <td>0</td>\n",
       "      <td>0</td>\n",
       "      <td>0</td>\n",
       "      <td>0</td>\n",
       "      <td>...</td>\n",
       "      <td>1</td>\n",
       "      <td>0</td>\n",
       "      <td>0</td>\n",
       "      <td>0</td>\n",
       "      <td>0</td>\n",
       "      <td>0</td>\n",
       "      <td>0</td>\n",
       "      <td>1</td>\n",
       "      <td>0</td>\n",
       "      <td>0</td>\n",
       "    </tr>\n",
       "    <tr>\n",
       "      <th>3</th>\n",
       "      <td>2542</td>\n",
       "      <td>0.1</td>\n",
       "      <td>0.243243</td>\n",
       "      <td>0</td>\n",
       "      <td>0</td>\n",
       "      <td>-1.040083</td>\n",
       "      <td>0</td>\n",
       "      <td>0</td>\n",
       "      <td>0</td>\n",
       "      <td>0</td>\n",
       "      <td>...</td>\n",
       "      <td>1</td>\n",
       "      <td>0</td>\n",
       "      <td>0</td>\n",
       "      <td>0</td>\n",
       "      <td>0</td>\n",
       "      <td>1</td>\n",
       "      <td>0</td>\n",
       "      <td>0</td>\n",
       "      <td>0</td>\n",
       "      <td>0</td>\n",
       "    </tr>\n",
       "    <tr>\n",
       "      <th>4</th>\n",
       "      <td>48945</td>\n",
       "      <td>0.0</td>\n",
       "      <td>0.027027</td>\n",
       "      <td>0</td>\n",
       "      <td>0</td>\n",
       "      <td>0.786150</td>\n",
       "      <td>0</td>\n",
       "      <td>0</td>\n",
       "      <td>0</td>\n",
       "      <td>0</td>\n",
       "      <td>...</td>\n",
       "      <td>1</td>\n",
       "      <td>0</td>\n",
       "      <td>0</td>\n",
       "      <td>0</td>\n",
       "      <td>0</td>\n",
       "      <td>0</td>\n",
       "      <td>0</td>\n",
       "      <td>1</td>\n",
       "      <td>0</td>\n",
       "      <td>0</td>\n",
       "    </tr>\n",
       "  </tbody>\n",
       "</table>\n",
       "<p>5 rows × 26 columns</p>\n",
       "</div>"
      ],
      "text/plain": [
       "   employee_id  no_of_trainings  length_of_service  KPIs_met >80%  \\\n",
       "0        65438              0.0           0.189189              1   \n",
       "1        65141              0.0           0.081081              0   \n",
       "2         7513              0.0           0.162162              0   \n",
       "3         2542              0.1           0.243243              0   \n",
       "4        48945              0.0           0.027027              0   \n",
       "\n",
       "   awards_won?  avg_training_score  is_promoted  department_Analytics  \\\n",
       "0            0           -1.137576            0                     0   \n",
       "1            0           -0.160248            0                     0   \n",
       "2            0           -1.040083            0                     0   \n",
       "3            0           -1.040083            0                     0   \n",
       "4            0            0.786150            0                     0   \n",
       "\n",
       "   department_Finance  department_HR            ...             \\\n",
       "0                   0              0            ...              \n",
       "1                   0              0            ...              \n",
       "2                   0              0            ...              \n",
       "3                   0              0            ...              \n",
       "4                   0              0            ...              \n",
       "\n",
       "   education_Bachelor's  education_Below Secondary  \\\n",
       "0                     0                          0   \n",
       "1                     1                          0   \n",
       "2                     1                          0   \n",
       "3                     1                          0   \n",
       "4                     1                          0   \n",
       "\n",
       "   education_Master's & above  education_Missing  previous_year_rating_0.0  \\\n",
       "0                           1                  0                         0   \n",
       "1                           0                  0                         0   \n",
       "2                           0                  0                         0   \n",
       "3                           0                  0                         0   \n",
       "4                           0                  0                         0   \n",
       "\n",
       "   previous_year_rating_1.0  previous_year_rating_2.0  \\\n",
       "0                         0                         0   \n",
       "1                         0                         0   \n",
       "2                         0                         0   \n",
       "3                         1                         0   \n",
       "4                         0                         0   \n",
       "\n",
       "   previous_year_rating_3.0  previous_year_rating_4.0  \\\n",
       "0                         0                         0   \n",
       "1                         0                         0   \n",
       "2                         1                         0   \n",
       "3                         0                         0   \n",
       "4                         1                         0   \n",
       "\n",
       "   previous_year_rating_5.0  \n",
       "0                         1  \n",
       "1                         1  \n",
       "2                         0  \n",
       "3                         0  \n",
       "4                         0  \n",
       "\n",
       "[5 rows x 26 columns]"
      ]
     },
     "execution_count": 17,
     "metadata": {},
     "output_type": "execute_result"
    }
   ],
   "source": [
    "df_train.head()"
   ]
  },
  {
   "cell_type": "code",
   "execution_count": 18,
   "metadata": {},
   "outputs": [],
   "source": [
    "#os.makedirs('tmp', exist_ok=True)\n",
    "df_train.to_feather(r'tmp\\train_v9_0')\n",
    "df_test.to_feather(r'tmp\\test_v9_0')"
   ]
  },
  {
   "cell_type": "code",
   "execution_count": null,
   "metadata": {},
   "outputs": [],
   "source": []
  },
  {
   "cell_type": "code",
   "execution_count": null,
   "metadata": {},
   "outputs": [],
   "source": []
  },
  {
   "cell_type": "code",
   "execution_count": null,
   "metadata": {},
   "outputs": [],
   "source": []
  },
  {
   "cell_type": "code",
   "execution_count": null,
   "metadata": {},
   "outputs": [],
   "source": []
  }
 ],
 "metadata": {
  "kernelspec": {
   "display_name": "Python 3",
   "language": "python",
   "name": "python3"
  },
  "language_info": {
   "codemirror_mode": {
    "name": "ipython",
    "version": 3
   },
   "file_extension": ".py",
   "mimetype": "text/x-python",
   "name": "python",
   "nbconvert_exporter": "python",
   "pygments_lexer": "ipython3",
   "version": "3.6.5"
  }
 },
 "nbformat": 4,
 "nbformat_minor": 2
}
